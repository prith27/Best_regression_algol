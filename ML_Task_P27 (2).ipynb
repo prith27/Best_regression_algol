{
 "cells": [
  {
   "cell_type": "markdown",
   "metadata": {},
   "source": [
    "# Comparing Regression Models"
   ]
  },
  {
   "cell_type": "markdown",
   "metadata": {},
   "source": [
    "# Importing libraries"
   ]
  },
  {
   "cell_type": "code",
   "execution_count": 99,
   "metadata": {},
   "outputs": [],
   "source": [
    "import numpy as np\n",
    "import matplotlib.pyplot as plt\n",
    "import pandas as pd\n",
    "import seaborn as sns\n",
    "%matplotlib inline"
   ]
  },
  {
   "cell_type": "markdown",
   "metadata": {},
   "source": [
    "# Reading Data Set"
   ]
  },
  {
   "cell_type": "code",
   "execution_count": 100,
   "metadata": {},
   "outputs": [],
   "source": [
    "df=pd.read_csv(r'C:\\Users\\prith\\Downloads\\ChallengingDataset.csv')"
   ]
  },
  {
   "cell_type": "markdown",
   "metadata": {},
   "source": [
    "# Exploring the dataset"
   ]
  },
  {
   "cell_type": "code",
   "execution_count": 101,
   "metadata": {},
   "outputs": [
    {
     "data": {
      "text/html": [
       "<div>\n",
       "<style scoped>\n",
       "    .dataframe tbody tr th:only-of-type {\n",
       "        vertical-align: middle;\n",
       "    }\n",
       "\n",
       "    .dataframe tbody tr th {\n",
       "        vertical-align: top;\n",
       "    }\n",
       "\n",
       "    .dataframe thead th {\n",
       "        text-align: right;\n",
       "    }\n",
       "</style>\n",
       "<table border=\"1\" class=\"dataframe\">\n",
       "  <thead>\n",
       "    <tr style=\"text-align: right;\">\n",
       "      <th></th>\n",
       "      <th>Sample Number</th>\n",
       "      <th>X1</th>\n",
       "      <th>X2</th>\n",
       "      <th>X3</th>\n",
       "      <th>Y2</th>\n",
       "      <th>Z1</th>\n",
       "    </tr>\n",
       "  </thead>\n",
       "  <tbody>\n",
       "    <tr>\n",
       "      <th>0</th>\n",
       "      <td>1</td>\n",
       "      <td>50</td>\n",
       "      <td>6</td>\n",
       "      <td>30</td>\n",
       "      <td>4.86</td>\n",
       "      <td>18</td>\n",
       "    </tr>\n",
       "    <tr>\n",
       "      <th>1</th>\n",
       "      <td>2</td>\n",
       "      <td>50</td>\n",
       "      <td>6</td>\n",
       "      <td>45</td>\n",
       "      <td>4.97</td>\n",
       "      <td>19</td>\n",
       "    </tr>\n",
       "    <tr>\n",
       "      <th>2</th>\n",
       "      <td>3</td>\n",
       "      <td>50</td>\n",
       "      <td>6</td>\n",
       "      <td>60</td>\n",
       "      <td>5.79</td>\n",
       "      <td>20</td>\n",
       "    </tr>\n",
       "    <tr>\n",
       "      <th>3</th>\n",
       "      <td>4</td>\n",
       "      <td>50</td>\n",
       "      <td>6</td>\n",
       "      <td>75</td>\n",
       "      <td>6.28</td>\n",
       "      <td>27</td>\n",
       "    </tr>\n",
       "    <tr>\n",
       "      <th>4</th>\n",
       "      <td>5</td>\n",
       "      <td>50</td>\n",
       "      <td>8</td>\n",
       "      <td>30</td>\n",
       "      <td>5.06</td>\n",
       "      <td>19</td>\n",
       "    </tr>\n",
       "    <tr>\n",
       "      <th>5</th>\n",
       "      <td>6</td>\n",
       "      <td>50</td>\n",
       "      <td>8</td>\n",
       "      <td>45</td>\n",
       "      <td>5.20</td>\n",
       "      <td>24</td>\n",
       "    </tr>\n",
       "    <tr>\n",
       "      <th>6</th>\n",
       "      <td>7</td>\n",
       "      <td>50</td>\n",
       "      <td>8</td>\n",
       "      <td>60</td>\n",
       "      <td>5.91</td>\n",
       "      <td>21</td>\n",
       "    </tr>\n",
       "    <tr>\n",
       "      <th>7</th>\n",
       "      <td>8</td>\n",
       "      <td>50</td>\n",
       "      <td>8</td>\n",
       "      <td>75</td>\n",
       "      <td>8.65</td>\n",
       "      <td>23</td>\n",
       "    </tr>\n",
       "  </tbody>\n",
       "</table>\n",
       "</div>"
      ],
      "text/plain": [
       "   Sample Number  X1  X2  X3    Y2  Z1\n",
       "0              1  50   6  30  4.86  18\n",
       "1              2  50   6  45  4.97  19\n",
       "2              3  50   6  60  5.79  20\n",
       "3              4  50   6  75  6.28  27\n",
       "4              5  50   8  30  5.06  19\n",
       "5              6  50   8  45  5.20  24\n",
       "6              7  50   8  60  5.91  21\n",
       "7              8  50   8  75  8.65  23"
      ]
     },
     "execution_count": 101,
     "metadata": {},
     "output_type": "execute_result"
    }
   ],
   "source": [
    "df.head(8)"
   ]
  },
  {
   "cell_type": "code",
   "execution_count": 102,
   "metadata": {},
   "outputs": [],
   "source": [
    "df.drop('Sample Number',axis=1,inplace=True)"
   ]
  },
  {
   "cell_type": "code",
   "execution_count": 103,
   "metadata": {},
   "outputs": [
    {
     "data": {
      "text/html": [
       "<div>\n",
       "<style scoped>\n",
       "    .dataframe tbody tr th:only-of-type {\n",
       "        vertical-align: middle;\n",
       "    }\n",
       "\n",
       "    .dataframe tbody tr th {\n",
       "        vertical-align: top;\n",
       "    }\n",
       "\n",
       "    .dataframe thead th {\n",
       "        text-align: right;\n",
       "    }\n",
       "</style>\n",
       "<table border=\"1\" class=\"dataframe\">\n",
       "  <thead>\n",
       "    <tr style=\"text-align: right;\">\n",
       "      <th></th>\n",
       "      <th>X1</th>\n",
       "      <th>X2</th>\n",
       "      <th>X3</th>\n",
       "      <th>Y2</th>\n",
       "      <th>Z1</th>\n",
       "    </tr>\n",
       "  </thead>\n",
       "  <tbody>\n",
       "    <tr>\n",
       "      <th>0</th>\n",
       "      <td>50</td>\n",
       "      <td>6</td>\n",
       "      <td>30</td>\n",
       "      <td>4.86</td>\n",
       "      <td>18</td>\n",
       "    </tr>\n",
       "    <tr>\n",
       "      <th>1</th>\n",
       "      <td>50</td>\n",
       "      <td>6</td>\n",
       "      <td>45</td>\n",
       "      <td>4.97</td>\n",
       "      <td>19</td>\n",
       "    </tr>\n",
       "    <tr>\n",
       "      <th>2</th>\n",
       "      <td>50</td>\n",
       "      <td>6</td>\n",
       "      <td>60</td>\n",
       "      <td>5.79</td>\n",
       "      <td>20</td>\n",
       "    </tr>\n",
       "    <tr>\n",
       "      <th>3</th>\n",
       "      <td>50</td>\n",
       "      <td>6</td>\n",
       "      <td>75</td>\n",
       "      <td>6.28</td>\n",
       "      <td>27</td>\n",
       "    </tr>\n",
       "    <tr>\n",
       "      <th>4</th>\n",
       "      <td>50</td>\n",
       "      <td>8</td>\n",
       "      <td>30</td>\n",
       "      <td>5.06</td>\n",
       "      <td>19</td>\n",
       "    </tr>\n",
       "  </tbody>\n",
       "</table>\n",
       "</div>"
      ],
      "text/plain": [
       "   X1  X2  X3    Y2  Z1\n",
       "0  50   6  30  4.86  18\n",
       "1  50   6  45  4.97  19\n",
       "2  50   6  60  5.79  20\n",
       "3  50   6  75  6.28  27\n",
       "4  50   8  30  5.06  19"
      ]
     },
     "execution_count": 103,
     "metadata": {},
     "output_type": "execute_result"
    }
   ],
   "source": [
    "df.head()"
   ]
  },
  {
   "cell_type": "code",
   "execution_count": 104,
   "metadata": {},
   "outputs": [],
   "source": [
    "df['X1X2']=df['X1']*df['X2']\n",
    "df['X1X3']=df['X1']*df['X3']\n",
    "df['X2X3']=df['X2']*df['X3']"
   ]
  },
  {
   "cell_type": "code",
   "execution_count": 105,
   "metadata": {},
   "outputs": [
    {
     "data": {
      "text/html": [
       "<div>\n",
       "<style scoped>\n",
       "    .dataframe tbody tr th:only-of-type {\n",
       "        vertical-align: middle;\n",
       "    }\n",
       "\n",
       "    .dataframe tbody tr th {\n",
       "        vertical-align: top;\n",
       "    }\n",
       "\n",
       "    .dataframe thead th {\n",
       "        text-align: right;\n",
       "    }\n",
       "</style>\n",
       "<table border=\"1\" class=\"dataframe\">\n",
       "  <thead>\n",
       "    <tr style=\"text-align: right;\">\n",
       "      <th></th>\n",
       "      <th>X1</th>\n",
       "      <th>X2</th>\n",
       "      <th>X3</th>\n",
       "      <th>Y2</th>\n",
       "      <th>Z1</th>\n",
       "      <th>X1X2</th>\n",
       "      <th>X1X3</th>\n",
       "      <th>X2X3</th>\n",
       "    </tr>\n",
       "  </thead>\n",
       "  <tbody>\n",
       "    <tr>\n",
       "      <th>0</th>\n",
       "      <td>50</td>\n",
       "      <td>6</td>\n",
       "      <td>30</td>\n",
       "      <td>4.86</td>\n",
       "      <td>18</td>\n",
       "      <td>300</td>\n",
       "      <td>1500</td>\n",
       "      <td>180</td>\n",
       "    </tr>\n",
       "    <tr>\n",
       "      <th>1</th>\n",
       "      <td>50</td>\n",
       "      <td>6</td>\n",
       "      <td>45</td>\n",
       "      <td>4.97</td>\n",
       "      <td>19</td>\n",
       "      <td>300</td>\n",
       "      <td>2250</td>\n",
       "      <td>270</td>\n",
       "    </tr>\n",
       "    <tr>\n",
       "      <th>2</th>\n",
       "      <td>50</td>\n",
       "      <td>6</td>\n",
       "      <td>60</td>\n",
       "      <td>5.79</td>\n",
       "      <td>20</td>\n",
       "      <td>300</td>\n",
       "      <td>3000</td>\n",
       "      <td>360</td>\n",
       "    </tr>\n",
       "    <tr>\n",
       "      <th>3</th>\n",
       "      <td>50</td>\n",
       "      <td>6</td>\n",
       "      <td>75</td>\n",
       "      <td>6.28</td>\n",
       "      <td>27</td>\n",
       "      <td>300</td>\n",
       "      <td>3750</td>\n",
       "      <td>450</td>\n",
       "    </tr>\n",
       "    <tr>\n",
       "      <th>4</th>\n",
       "      <td>50</td>\n",
       "      <td>8</td>\n",
       "      <td>30</td>\n",
       "      <td>5.06</td>\n",
       "      <td>19</td>\n",
       "      <td>400</td>\n",
       "      <td>1500</td>\n",
       "      <td>240</td>\n",
       "    </tr>\n",
       "  </tbody>\n",
       "</table>\n",
       "</div>"
      ],
      "text/plain": [
       "   X1  X2  X3    Y2  Z1  X1X2  X1X3  X2X3\n",
       "0  50   6  30  4.86  18   300  1500   180\n",
       "1  50   6  45  4.97  19   300  2250   270\n",
       "2  50   6  60  5.79  20   300  3000   360\n",
       "3  50   6  75  6.28  27   300  3750   450\n",
       "4  50   8  30  5.06  19   400  1500   240"
      ]
     },
     "execution_count": 105,
     "metadata": {},
     "output_type": "execute_result"
    }
   ],
   "source": [
    "df.head()"
   ]
  },
  {
   "cell_type": "code",
   "execution_count": 106,
   "metadata": {},
   "outputs": [
    {
     "data": {
      "text/html": [
       "<div>\n",
       "<style scoped>\n",
       "    .dataframe tbody tr th:only-of-type {\n",
       "        vertical-align: middle;\n",
       "    }\n",
       "\n",
       "    .dataframe tbody tr th {\n",
       "        vertical-align: top;\n",
       "    }\n",
       "\n",
       "    .dataframe thead th {\n",
       "        text-align: right;\n",
       "    }\n",
       "</style>\n",
       "<table border=\"1\" class=\"dataframe\">\n",
       "  <thead>\n",
       "    <tr style=\"text-align: right;\">\n",
       "      <th></th>\n",
       "      <th>count</th>\n",
       "      <th>mean</th>\n",
       "      <th>std</th>\n",
       "      <th>min</th>\n",
       "      <th>25%</th>\n",
       "      <th>50%</th>\n",
       "      <th>75%</th>\n",
       "      <th>max</th>\n",
       "    </tr>\n",
       "  </thead>\n",
       "  <tbody>\n",
       "    <tr>\n",
       "      <th>X1</th>\n",
       "      <td>64.0</td>\n",
       "      <td>125.000000</td>\n",
       "      <td>56.343617</td>\n",
       "      <td>50.00</td>\n",
       "      <td>87.5000</td>\n",
       "      <td>125.00</td>\n",
       "      <td>162.5000</td>\n",
       "      <td>200.00</td>\n",
       "    </tr>\n",
       "    <tr>\n",
       "      <th>X2</th>\n",
       "      <td>64.0</td>\n",
       "      <td>9.000000</td>\n",
       "      <td>2.253745</td>\n",
       "      <td>6.00</td>\n",
       "      <td>7.5000</td>\n",
       "      <td>9.00</td>\n",
       "      <td>10.5000</td>\n",
       "      <td>12.00</td>\n",
       "    </tr>\n",
       "    <tr>\n",
       "      <th>X3</th>\n",
       "      <td>64.0</td>\n",
       "      <td>52.500000</td>\n",
       "      <td>16.903085</td>\n",
       "      <td>30.00</td>\n",
       "      <td>41.2500</td>\n",
       "      <td>52.50</td>\n",
       "      <td>63.7500</td>\n",
       "      <td>75.00</td>\n",
       "    </tr>\n",
       "    <tr>\n",
       "      <th>Y2</th>\n",
       "      <td>64.0</td>\n",
       "      <td>7.531719</td>\n",
       "      <td>1.299308</td>\n",
       "      <td>4.86</td>\n",
       "      <td>6.9475</td>\n",
       "      <td>7.21</td>\n",
       "      <td>8.7025</td>\n",
       "      <td>10.13</td>\n",
       "    </tr>\n",
       "    <tr>\n",
       "      <th>Z1</th>\n",
       "      <td>64.0</td>\n",
       "      <td>30.687500</td>\n",
       "      <td>6.647293</td>\n",
       "      <td>18.00</td>\n",
       "      <td>25.7500</td>\n",
       "      <td>32.00</td>\n",
       "      <td>35.2500</td>\n",
       "      <td>44.00</td>\n",
       "    </tr>\n",
       "    <tr>\n",
       "      <th>X1X2</th>\n",
       "      <td>64.0</td>\n",
       "      <td>1125.000000</td>\n",
       "      <td>593.616840</td>\n",
       "      <td>300.00</td>\n",
       "      <td>600.0000</td>\n",
       "      <td>1100.00</td>\n",
       "      <td>1525.0000</td>\n",
       "      <td>2400.00</td>\n",
       "    </tr>\n",
       "    <tr>\n",
       "      <th>X1X3</th>\n",
       "      <td>64.0</td>\n",
       "      <td>6562.500000</td>\n",
       "      <td>3755.947664</td>\n",
       "      <td>1500.00</td>\n",
       "      <td>3562.5000</td>\n",
       "      <td>6000.00</td>\n",
       "      <td>9000.0000</td>\n",
       "      <td>15000.00</td>\n",
       "    </tr>\n",
       "    <tr>\n",
       "      <th>X2X3</th>\n",
       "      <td>64.0</td>\n",
       "      <td>472.500000</td>\n",
       "      <td>196.396101</td>\n",
       "      <td>180.00</td>\n",
       "      <td>345.0000</td>\n",
       "      <td>450.00</td>\n",
       "      <td>600.0000</td>\n",
       "      <td>900.00</td>\n",
       "    </tr>\n",
       "  </tbody>\n",
       "</table>\n",
       "</div>"
      ],
      "text/plain": [
       "      count         mean          std      min        25%      50%        75%  \\\n",
       "X1     64.0   125.000000    56.343617    50.00    87.5000   125.00   162.5000   \n",
       "X2     64.0     9.000000     2.253745     6.00     7.5000     9.00    10.5000   \n",
       "X3     64.0    52.500000    16.903085    30.00    41.2500    52.50    63.7500   \n",
       "Y2     64.0     7.531719     1.299308     4.86     6.9475     7.21     8.7025   \n",
       "Z1     64.0    30.687500     6.647293    18.00    25.7500    32.00    35.2500   \n",
       "X1X2   64.0  1125.000000   593.616840   300.00   600.0000  1100.00  1525.0000   \n",
       "X1X3   64.0  6562.500000  3755.947664  1500.00  3562.5000  6000.00  9000.0000   \n",
       "X2X3   64.0   472.500000   196.396101   180.00   345.0000   450.00   600.0000   \n",
       "\n",
       "           max  \n",
       "X1      200.00  \n",
       "X2       12.00  \n",
       "X3       75.00  \n",
       "Y2       10.13  \n",
       "Z1       44.00  \n",
       "X1X2   2400.00  \n",
       "X1X3  15000.00  \n",
       "X2X3    900.00  "
      ]
     },
     "execution_count": 106,
     "metadata": {},
     "output_type": "execute_result"
    }
   ],
   "source": [
    "df.describe().transpose()  "
   ]
  },
  {
   "cell_type": "markdown",
   "metadata": {},
   "source": [
    "# Correlation between each column"
   ]
  },
  {
   "cell_type": "code",
   "execution_count": 107,
   "metadata": {},
   "outputs": [
    {
     "data": {
      "text/html": [
       "<div>\n",
       "<style scoped>\n",
       "    .dataframe tbody tr th:only-of-type {\n",
       "        vertical-align: middle;\n",
       "    }\n",
       "\n",
       "    .dataframe tbody tr th {\n",
       "        vertical-align: top;\n",
       "    }\n",
       "\n",
       "    .dataframe thead th {\n",
       "        text-align: right;\n",
       "    }\n",
       "</style>\n",
       "<table border=\"1\" class=\"dataframe\">\n",
       "  <thead>\n",
       "    <tr style=\"text-align: right;\">\n",
       "      <th></th>\n",
       "      <th>X1</th>\n",
       "      <th>X2</th>\n",
       "      <th>X3</th>\n",
       "      <th>Y2</th>\n",
       "      <th>Z1</th>\n",
       "      <th>X1X2</th>\n",
       "      <th>X1X3</th>\n",
       "      <th>X2X3</th>\n",
       "    </tr>\n",
       "  </thead>\n",
       "  <tbody>\n",
       "    <tr>\n",
       "      <th>X1</th>\n",
       "      <td>1.000000</td>\n",
       "      <td>0.000000</td>\n",
       "      <td>0.000000</td>\n",
       "      <td>0.374505</td>\n",
       "      <td>0.894236</td>\n",
       "      <td>0.854242</td>\n",
       "      <td>0.787562</td>\n",
       "      <td>0.000000</td>\n",
       "    </tr>\n",
       "    <tr>\n",
       "      <th>X2</th>\n",
       "      <td>0.000000</td>\n",
       "      <td>1.000000</td>\n",
       "      <td>0.000000</td>\n",
       "      <td>0.392176</td>\n",
       "      <td>0.254285</td>\n",
       "      <td>0.474579</td>\n",
       "      <td>0.000000</td>\n",
       "      <td>0.602464</td>\n",
       "    </tr>\n",
       "    <tr>\n",
       "      <th>X3</th>\n",
       "      <td>0.000000</td>\n",
       "      <td>0.000000</td>\n",
       "      <td>1.000000</td>\n",
       "      <td>0.662444</td>\n",
       "      <td>0.137738</td>\n",
       "      <td>0.000000</td>\n",
       "      <td>0.562544</td>\n",
       "      <td>0.774597</td>\n",
       "    </tr>\n",
       "    <tr>\n",
       "      <th>Y2</th>\n",
       "      <td>0.374505</td>\n",
       "      <td>0.392176</td>\n",
       "      <td>0.662444</td>\n",
       "      <td>1.000000</td>\n",
       "      <td>0.553669</td>\n",
       "      <td>0.493426</td>\n",
       "      <td>0.659592</td>\n",
       "      <td>0.751400</td>\n",
       "    </tr>\n",
       "    <tr>\n",
       "      <th>Z1</th>\n",
       "      <td>0.894236</td>\n",
       "      <td>0.254285</td>\n",
       "      <td>0.137738</td>\n",
       "      <td>0.553669</td>\n",
       "      <td>1.000000</td>\n",
       "      <td>0.894629</td>\n",
       "      <td>0.755286</td>\n",
       "      <td>0.257153</td>\n",
       "    </tr>\n",
       "    <tr>\n",
       "      <th>X1X2</th>\n",
       "      <td>0.854242</td>\n",
       "      <td>0.474579</td>\n",
       "      <td>0.000000</td>\n",
       "      <td>0.493426</td>\n",
       "      <td>0.894629</td>\n",
       "      <td>1.000000</td>\n",
       "      <td>0.672768</td>\n",
       "      <td>0.285917</td>\n",
       "    </tr>\n",
       "    <tr>\n",
       "      <th>X1X3</th>\n",
       "      <td>0.787562</td>\n",
       "      <td>0.000000</td>\n",
       "      <td>0.562544</td>\n",
       "      <td>0.659592</td>\n",
       "      <td>0.755286</td>\n",
       "      <td>0.672768</td>\n",
       "      <td>1.000000</td>\n",
       "      <td>0.435745</td>\n",
       "    </tr>\n",
       "    <tr>\n",
       "      <th>X2X3</th>\n",
       "      <td>0.000000</td>\n",
       "      <td>0.602464</td>\n",
       "      <td>0.774597</td>\n",
       "      <td>0.751400</td>\n",
       "      <td>0.257153</td>\n",
       "      <td>0.285917</td>\n",
       "      <td>0.435745</td>\n",
       "      <td>1.000000</td>\n",
       "    </tr>\n",
       "  </tbody>\n",
       "</table>\n",
       "</div>"
      ],
      "text/plain": [
       "            X1        X2        X3        Y2        Z1      X1X2      X1X3  \\\n",
       "X1    1.000000  0.000000  0.000000  0.374505  0.894236  0.854242  0.787562   \n",
       "X2    0.000000  1.000000  0.000000  0.392176  0.254285  0.474579  0.000000   \n",
       "X3    0.000000  0.000000  1.000000  0.662444  0.137738  0.000000  0.562544   \n",
       "Y2    0.374505  0.392176  0.662444  1.000000  0.553669  0.493426  0.659592   \n",
       "Z1    0.894236  0.254285  0.137738  0.553669  1.000000  0.894629  0.755286   \n",
       "X1X2  0.854242  0.474579  0.000000  0.493426  0.894629  1.000000  0.672768   \n",
       "X1X3  0.787562  0.000000  0.562544  0.659592  0.755286  0.672768  1.000000   \n",
       "X2X3  0.000000  0.602464  0.774597  0.751400  0.257153  0.285917  0.435745   \n",
       "\n",
       "          X2X3  \n",
       "X1    0.000000  \n",
       "X2    0.602464  \n",
       "X3    0.774597  \n",
       "Y2    0.751400  \n",
       "Z1    0.257153  \n",
       "X1X2  0.285917  \n",
       "X1X3  0.435745  \n",
       "X2X3  1.000000  "
      ]
     },
     "execution_count": 107,
     "metadata": {},
     "output_type": "execute_result"
    }
   ],
   "source": [
    "df.corr()"
   ]
  },
  {
   "cell_type": "markdown",
   "metadata": {},
   "source": [
    "# Correlation Between the dependent and independent variables"
   ]
  },
  {
   "cell_type": "code",
   "execution_count": 108,
   "metadata": {},
   "outputs": [
    {
     "data": {
      "text/plain": [
       "X1      0.374505\n",
       "X2      0.392176\n",
       "X3      0.662444\n",
       "Y2      1.000000\n",
       "Z1      0.553669\n",
       "X1X2    0.493426\n",
       "X1X3    0.659592\n",
       "X2X3    0.751400\n",
       "Name: Y2, dtype: float64"
      ]
     },
     "execution_count": 108,
     "metadata": {},
     "output_type": "execute_result"
    }
   ],
   "source": [
    "df.corr()['Y2']"
   ]
  },
  {
   "cell_type": "markdown",
   "metadata": {},
   "source": [
    "# Linear Regression"
   ]
  },
  {
   "cell_type": "markdown",
   "metadata": {},
   "source": [
    "# Splitting into Training and Testing set for Linear Regression"
   ]
  },
  {
   "cell_type": "code",
   "execution_count": 109,
   "metadata": {},
   "outputs": [],
   "source": [
    "X=df[['X1','X2','X3','X1X2','X1X3','X2X3']]\n",
    "y=df['Y2']"
   ]
  },
  {
   "cell_type": "code",
   "execution_count": 110,
   "metadata": {},
   "outputs": [
    {
     "data": {
      "text/html": [
       "<div>\n",
       "<style scoped>\n",
       "    .dataframe tbody tr th:only-of-type {\n",
       "        vertical-align: middle;\n",
       "    }\n",
       "\n",
       "    .dataframe tbody tr th {\n",
       "        vertical-align: top;\n",
       "    }\n",
       "\n",
       "    .dataframe thead th {\n",
       "        text-align: right;\n",
       "    }\n",
       "</style>\n",
       "<table border=\"1\" class=\"dataframe\">\n",
       "  <thead>\n",
       "    <tr style=\"text-align: right;\">\n",
       "      <th></th>\n",
       "      <th>X1</th>\n",
       "      <th>X2</th>\n",
       "      <th>X3</th>\n",
       "      <th>X1X2</th>\n",
       "      <th>X1X3</th>\n",
       "      <th>X2X3</th>\n",
       "    </tr>\n",
       "  </thead>\n",
       "  <tbody>\n",
       "    <tr>\n",
       "      <th>0</th>\n",
       "      <td>50</td>\n",
       "      <td>6</td>\n",
       "      <td>30</td>\n",
       "      <td>300</td>\n",
       "      <td>1500</td>\n",
       "      <td>180</td>\n",
       "    </tr>\n",
       "    <tr>\n",
       "      <th>1</th>\n",
       "      <td>50</td>\n",
       "      <td>6</td>\n",
       "      <td>45</td>\n",
       "      <td>300</td>\n",
       "      <td>2250</td>\n",
       "      <td>270</td>\n",
       "    </tr>\n",
       "    <tr>\n",
       "      <th>2</th>\n",
       "      <td>50</td>\n",
       "      <td>6</td>\n",
       "      <td>60</td>\n",
       "      <td>300</td>\n",
       "      <td>3000</td>\n",
       "      <td>360</td>\n",
       "    </tr>\n",
       "    <tr>\n",
       "      <th>3</th>\n",
       "      <td>50</td>\n",
       "      <td>6</td>\n",
       "      <td>75</td>\n",
       "      <td>300</td>\n",
       "      <td>3750</td>\n",
       "      <td>450</td>\n",
       "    </tr>\n",
       "    <tr>\n",
       "      <th>4</th>\n",
       "      <td>50</td>\n",
       "      <td>8</td>\n",
       "      <td>30</td>\n",
       "      <td>400</td>\n",
       "      <td>1500</td>\n",
       "      <td>240</td>\n",
       "    </tr>\n",
       "  </tbody>\n",
       "</table>\n",
       "</div>"
      ],
      "text/plain": [
       "   X1  X2  X3  X1X2  X1X3  X2X3\n",
       "0  50   6  30   300  1500   180\n",
       "1  50   6  45   300  2250   270\n",
       "2  50   6  60   300  3000   360\n",
       "3  50   6  75   300  3750   450\n",
       "4  50   8  30   400  1500   240"
      ]
     },
     "execution_count": 110,
     "metadata": {},
     "output_type": "execute_result"
    }
   ],
   "source": [
    "X.head()"
   ]
  },
  {
   "cell_type": "code",
   "execution_count": 111,
   "metadata": {},
   "outputs": [
    {
     "data": {
      "text/plain": [
       "0    4.86\n",
       "1    4.97\n",
       "2    5.79\n",
       "3    6.28\n",
       "4    5.06\n",
       "Name: Y2, dtype: float64"
      ]
     },
     "execution_count": 111,
     "metadata": {},
     "output_type": "execute_result"
    }
   ],
   "source": [
    "y.head()"
   ]
  },
  {
   "cell_type": "code",
   "execution_count": 112,
   "metadata": {},
   "outputs": [],
   "source": [
    "from sklearn.model_selection import train_test_split\n",
    "X_train,X_test,y_train,y_test=train_test_split(X,y,test_size=0.2,random_state=101)"
   ]
  },
  {
   "cell_type": "code",
   "execution_count": 113,
   "metadata": {},
   "outputs": [],
   "source": [
    "from sklearn.linear_model import LinearRegression"
   ]
  },
  {
   "cell_type": "markdown",
   "metadata": {},
   "source": [
    "# Creating Linear Regression Model"
   ]
  },
  {
   "cell_type": "code",
   "execution_count": 114,
   "metadata": {},
   "outputs": [],
   "source": [
    "lr=LinearRegression()"
   ]
  },
  {
   "cell_type": "code",
   "execution_count": 115,
   "metadata": {},
   "outputs": [
    {
     "data": {
      "text/plain": [
       "LinearRegression()"
      ]
     },
     "execution_count": 115,
     "metadata": {},
     "output_type": "execute_result"
    }
   ],
   "source": [
    "lr.fit(X_train,y_train)"
   ]
  },
  {
   "cell_type": "code",
   "execution_count": 116,
   "metadata": {},
   "outputs": [],
   "source": [
    "predictions=lr.predict(X_test)\n",
    "linear_pred=lr.predict(X)"
   ]
  },
  {
   "cell_type": "markdown",
   "metadata": {},
   "source": [
    "# Linear Regression Evaluation"
   ]
  },
  {
   "cell_type": "code",
   "execution_count": 117,
   "metadata": {},
   "outputs": [],
   "source": [
    "from sklearn.metrics import mean_squared_error,mean_absolute_error,r2_score"
   ]
  },
  {
   "cell_type": "code",
   "execution_count": 118,
   "metadata": {},
   "outputs": [],
   "source": [
    "#Defining the Adjusted R2 function\n",
    "def adjusted_r2(predictions):\n",
    "    n = df.shape[0]\n",
    "    p = X.shape[1]\n",
    "    r2 = r2_score(y_test, predictions)\n",
    "    adjusted_r2 = 1 - (((1 - r2) * (n - 1)) / (n - p - 1))\n",
    "    return adjusted_r2"
   ]
  },
  {
   "cell_type": "code",
   "execution_count": 119,
   "metadata": {},
   "outputs": [],
   "source": [
    "Linear_MAE=mean_absolute_error(y_test,predictions)\n",
    "Linear_MSE=mean_squared_error(y_test,predictions)\n",
    "Linear_RMSE=np.sqrt(Linear_MSE)\n",
    "Linear_R2=r2_score(y_test,predictions)\n",
    "Linear_Adjusted_R2=adjusted_r2(predictions)"
   ]
  },
  {
   "cell_type": "code",
   "execution_count": 120,
   "metadata": {},
   "outputs": [
    {
     "name": "stdout",
     "output_type": "stream",
     "text": [
      "Mean Absolute Error:  0.7441473842335449\n",
      "Mean Squared Error:  0.8283627080128011\n",
      "Root Mean Squared Error:  0.9101443336157189\n",
      "R2 Score:  0.4193414284297271\n",
      "Adjusted R2 Score: 0.3582194735275932\n"
     ]
    }
   ],
   "source": [
    "print('Mean Absolute Error: ',Linear_MAE)\n",
    "print('Mean Squared Error: ',Linear_MSE)\n",
    "print('Root Mean Squared Error: ',Linear_RMSE)\n",
    "print('R2 Score: ',Linear_R2)\n",
    "print('Adjusted R2 Score:',Linear_Adjusted_R2)"
   ]
  },
  {
   "cell_type": "code",
   "execution_count": 121,
   "metadata": {},
   "outputs": [
    {
     "data": {
      "image/png": "[encoded data removed]",
      "text/plain": [
       "<Figure size 432x288 with 1 Axes>"
      ]
     },
     "metadata": {
      "needs_background": "light"
     },
     "output_type": "display_data"
    }
   ],
   "source": [
    "#Residual Graph\n",
    "r=y_test-predictions\n",
    "sns.scatterplot(x=y_test,y=r)\n",
    "plt.xlabel('y_test')\n",
    "plt.ylabel('Residual')\n",
    "plt.axhline(y=0,color='red',linestyle='--')\n",
    "plt.show()"
   ]
  },
  {
   "cell_type": "code",
   "execution_count": 122,
   "metadata": {},
   "outputs": [
    {
     "data": {
      "text/html": [
       "<div>\n",
       "<style scoped>\n",
       "    .dataframe tbody tr th:only-of-type {\n",
       "        vertical-align: middle;\n",
       "    }\n",
       "\n",
       "    .dataframe tbody tr th {\n",
       "        vertical-align: top;\n",
       "    }\n",
       "\n",
       "    .dataframe thead th {\n",
       "        text-align: right;\n",
       "    }\n",
       "</style>\n",
       "<table border=\"1\" class=\"dataframe\">\n",
       "  <thead>\n",
       "    <tr style=\"text-align: right;\">\n",
       "      <th></th>\n",
       "      <th>X1</th>\n",
       "      <th>X2</th>\n",
       "      <th>X3</th>\n",
       "      <th>Y2</th>\n",
       "      <th>Z1</th>\n",
       "      <th>X1X2</th>\n",
       "      <th>X1X3</th>\n",
       "      <th>X2X3</th>\n",
       "      <th>LinearPrediction_Y2</th>\n",
       "    </tr>\n",
       "  </thead>\n",
       "  <tbody>\n",
       "    <tr>\n",
       "      <th>0</th>\n",
       "      <td>50</td>\n",
       "      <td>6</td>\n",
       "      <td>30</td>\n",
       "      <td>4.86</td>\n",
       "      <td>18</td>\n",
       "      <td>300</td>\n",
       "      <td>1500</td>\n",
       "      <td>180</td>\n",
       "      <td>4.648187</td>\n",
       "    </tr>\n",
       "    <tr>\n",
       "      <th>1</th>\n",
       "      <td>50</td>\n",
       "      <td>6</td>\n",
       "      <td>45</td>\n",
       "      <td>4.97</td>\n",
       "      <td>19</td>\n",
       "      <td>300</td>\n",
       "      <td>2250</td>\n",
       "      <td>270</td>\n",
       "      <td>5.648293</td>\n",
       "    </tr>\n",
       "    <tr>\n",
       "      <th>2</th>\n",
       "      <td>50</td>\n",
       "      <td>6</td>\n",
       "      <td>60</td>\n",
       "      <td>5.79</td>\n",
       "      <td>20</td>\n",
       "      <td>300</td>\n",
       "      <td>3000</td>\n",
       "      <td>360</td>\n",
       "      <td>6.648399</td>\n",
       "    </tr>\n",
       "    <tr>\n",
       "      <th>3</th>\n",
       "      <td>50</td>\n",
       "      <td>6</td>\n",
       "      <td>75</td>\n",
       "      <td>6.28</td>\n",
       "      <td>27</td>\n",
       "      <td>300</td>\n",
       "      <td>3750</td>\n",
       "      <td>450</td>\n",
       "      <td>7.648506</td>\n",
       "    </tr>\n",
       "    <tr>\n",
       "      <th>4</th>\n",
       "      <td>50</td>\n",
       "      <td>8</td>\n",
       "      <td>30</td>\n",
       "      <td>5.06</td>\n",
       "      <td>19</td>\n",
       "      <td>400</td>\n",
       "      <td>1500</td>\n",
       "      <td>240</td>\n",
       "      <td>5.283681</td>\n",
       "    </tr>\n",
       "  </tbody>\n",
       "</table>\n",
       "</div>"
      ],
      "text/plain": [
       "   X1  X2  X3    Y2  Z1  X1X2  X1X3  X2X3  LinearPrediction_Y2\n",
       "0  50   6  30  4.86  18   300  1500   180             4.648187\n",
       "1  50   6  45  4.97  19   300  2250   270             5.648293\n",
       "2  50   6  60  5.79  20   300  3000   360             6.648399\n",
       "3  50   6  75  6.28  27   300  3750   450             7.648506\n",
       "4  50   8  30  5.06  19   400  1500   240             5.283681"
      ]
     },
     "execution_count": 122,
     "metadata": {},
     "output_type": "execute_result"
    }
   ],
   "source": [
    "#Adding Predicted Y2 values in the dataframe for Linear Regression\n",
    "df['LinearPrediction_Y2']=linear_pred\n",
    "df.head()"
   ]
  },
  {
   "cell_type": "code",
   "execution_count": 123,
   "metadata": {},
   "outputs": [
    {
     "data": {
      "image/png": "[encoded data removed]",
      "text/plain": [
       "<Figure size 432x288 with 1 Axes>"
      ]
     },
     "metadata": {
      "needs_background": "light"
     },
     "output_type": "display_data"
    }
   ],
   "source": [
    "#Plotting Actual Y2 values vs Predicted Y2 values\n",
    "sns.scatterplot(data=df,x='Y2',y='LinearPrediction_Y2',color='red')\n",
    "plt.title(\"Linear Regression\")\n",
    "plt.show()"
   ]
  },
  {
   "cell_type": "markdown",
   "metadata": {},
   "source": [
    "# Polynomial Regression"
   ]
  },
  {
   "cell_type": "code",
   "execution_count": 124,
   "metadata": {},
   "outputs": [],
   "source": [
    "from sklearn.preprocessing import PolynomialFeatures"
   ]
  },
  {
   "cell_type": "code",
   "execution_count": 125,
   "metadata": {},
   "outputs": [],
   "source": [
    "poly_conv=PolynomialFeatures(degree=3,include_bias=False)"
   ]
  },
  {
   "cell_type": "code",
   "execution_count": 126,
   "metadata": {},
   "outputs": [],
   "source": [
    "poly_feat=poly_conv.fit_transform(X)"
   ]
  },
  {
   "cell_type": "markdown",
   "metadata": {},
   "source": [
    "# Train Test Split for Polynomial Regression"
   ]
  },
  {
   "cell_type": "code",
   "execution_count": 127,
   "metadata": {},
   "outputs": [],
   "source": [
    "X_train,X_test,y_train,y_test=train_test_split(poly_feat,y,test_size=0.2,random_state=101)"
   ]
  },
  {
   "cell_type": "code",
   "execution_count": 128,
   "metadata": {},
   "outputs": [],
   "source": [
    "pr=LinearRegression()"
   ]
  },
  {
   "cell_type": "code",
   "execution_count": 129,
   "metadata": {},
   "outputs": [
    {
     "data": {
      "text/plain": [
       "LinearRegression()"
      ]
     },
     "execution_count": 129,
     "metadata": {},
     "output_type": "execute_result"
    }
   ],
   "source": [
    "pr.fit(X_train,y_train)"
   ]
  },
  {
   "cell_type": "code",
   "execution_count": 130,
   "metadata": {},
   "outputs": [],
   "source": [
    "polypredict=pr.predict(X_test)\n",
    "Polypredict_Y2=pr.predict(poly_feat)"
   ]
  },
  {
   "cell_type": "markdown",
   "metadata": {},
   "source": [
    "# Evaluation of Polynomial Regression"
   ]
  },
  {
   "cell_type": "code",
   "execution_count": 131,
   "metadata": {},
   "outputs": [],
   "source": [
    "#Defining the adjusted_r2 function\n",
    "def adjusted_r2(predictions):\n",
    "    n = df.shape[0]\n",
    "    p = X.shape[1]\n",
    "    r2 = r2_score(y_test, predictions)\n",
    "    adjusted_r2 = 1 - (((1 - r2) * (n - 1)) / (n - p - 1))\n",
    "    return adjusted_r2"
   ]
  },
  {
   "cell_type": "code",
   "execution_count": 132,
   "metadata": {},
   "outputs": [],
   "source": [
    "Polynomial_MAE=mean_absolute_error(y_test,polypredict)\n",
    "Polynomial_MSE=mean_squared_error(y_test,polypredict)\n",
    "Polynomial_RMSE=np.sqrt(Polynomial_MSE)\n",
    "Polynomial_R2=r2_score(y_test,polypredict)\n",
    "Polynomial_Adjusted_R2=adjusted_r2(polypredict)"
   ]
  },
  {
   "cell_type": "code",
   "execution_count": 133,
   "metadata": {},
   "outputs": [
    {
     "name": "stdout",
     "output_type": "stream",
     "text": [
      "Mean Absolute Error:  3.325095848296386\n",
      "Mean Squared Error:  22.364632809532672\n",
      "Root Mean Squared Error:  4.72912600905629\n",
      "R2 Score:  -14.676968090500058\n",
      "Adjusted R2 Score: -16.327175257921116\n"
     ]
    }
   ],
   "source": [
    "print('Mean Absolute Error: ',Polynomial_MAE)\n",
    "print('Mean Squared Error: ',Polynomial_MSE)\n",
    "print('Root Mean Squared Error: ',Polynomial_RMSE)\n",
    "print('R2 Score: ',Polynomial_R2)\n",
    "print('Adjusted R2 Score:',Polynomial_Adjusted_R2)"
   ]
  },
  {
   "cell_type": "code",
   "execution_count": 134,
   "metadata": {},
   "outputs": [
    {
     "data": {
      "image/png": "[encoded data removed]",
      "text/plain": [
       "<Figure size 432x288 with 1 Axes>"
      ]
     },
     "metadata": {
      "needs_background": "light"
     },
     "output_type": "display_data"
    }
   ],
   "source": [
    "#Residual Graph\n",
    "r=y_test-polypredict\n",
    "sns.scatterplot(x=y_test,y=r)\n",
    "plt.xlabel('y_test')\n",
    "plt.ylabel('Residual')\n",
    "plt.axhline(y=0,color='red',linestyle='--')\n",
    "plt.show()"
   ]
  },
  {
   "cell_type": "code",
   "execution_count": 135,
   "metadata": {},
   "outputs": [
    {
     "data": {
      "text/html": [
       "<div>\n",
       "<style scoped>\n",
       "    .dataframe tbody tr th:only-of-type {\n",
       "        vertical-align: middle;\n",
       "    }\n",
       "\n",
       "    .dataframe tbody tr th {\n",
       "        vertical-align: top;\n",
       "    }\n",
       "\n",
       "    .dataframe thead th {\n",
       "        text-align: right;\n",
       "    }\n",
       "</style>\n",
       "<table border=\"1\" class=\"dataframe\">\n",
       "  <thead>\n",
       "    <tr style=\"text-align: right;\">\n",
       "      <th></th>\n",
       "      <th>X1</th>\n",
       "      <th>X2</th>\n",
       "      <th>X3</th>\n",
       "      <th>Y2</th>\n",
       "      <th>Z1</th>\n",
       "      <th>X1X2</th>\n",
       "      <th>X1X3</th>\n",
       "      <th>X2X3</th>\n",
       "      <th>LinearPrediction_Y2</th>\n",
       "      <th>PolyPrediction_Y2</th>\n",
       "    </tr>\n",
       "  </thead>\n",
       "  <tbody>\n",
       "    <tr>\n",
       "      <th>0</th>\n",
       "      <td>50</td>\n",
       "      <td>6</td>\n",
       "      <td>30</td>\n",
       "      <td>4.86</td>\n",
       "      <td>18</td>\n",
       "      <td>300</td>\n",
       "      <td>1500</td>\n",
       "      <td>180</td>\n",
       "      <td>4.648187</td>\n",
       "      <td>4.858393</td>\n",
       "    </tr>\n",
       "    <tr>\n",
       "      <th>1</th>\n",
       "      <td>50</td>\n",
       "      <td>6</td>\n",
       "      <td>45</td>\n",
       "      <td>4.97</td>\n",
       "      <td>19</td>\n",
       "      <td>300</td>\n",
       "      <td>2250</td>\n",
       "      <td>270</td>\n",
       "      <td>5.648293</td>\n",
       "      <td>7.419904</td>\n",
       "    </tr>\n",
       "    <tr>\n",
       "      <th>2</th>\n",
       "      <td>50</td>\n",
       "      <td>6</td>\n",
       "      <td>60</td>\n",
       "      <td>5.79</td>\n",
       "      <td>20</td>\n",
       "      <td>300</td>\n",
       "      <td>3000</td>\n",
       "      <td>360</td>\n",
       "      <td>6.648399</td>\n",
       "      <td>8.624828</td>\n",
       "    </tr>\n",
       "    <tr>\n",
       "      <th>3</th>\n",
       "      <td>50</td>\n",
       "      <td>6</td>\n",
       "      <td>75</td>\n",
       "      <td>6.28</td>\n",
       "      <td>27</td>\n",
       "      <td>300</td>\n",
       "      <td>3750</td>\n",
       "      <td>450</td>\n",
       "      <td>7.648506</td>\n",
       "      <td>6.280734</td>\n",
       "    </tr>\n",
       "    <tr>\n",
       "      <th>4</th>\n",
       "      <td>50</td>\n",
       "      <td>8</td>\n",
       "      <td>30</td>\n",
       "      <td>5.06</td>\n",
       "      <td>19</td>\n",
       "      <td>400</td>\n",
       "      <td>1500</td>\n",
       "      <td>240</td>\n",
       "      <td>5.283681</td>\n",
       "      <td>5.059106</td>\n",
       "    </tr>\n",
       "  </tbody>\n",
       "</table>\n",
       "</div>"
      ],
      "text/plain": [
       "   X1  X2  X3    Y2  Z1  X1X2  X1X3  X2X3  LinearPrediction_Y2  \\\n",
       "0  50   6  30  4.86  18   300  1500   180             4.648187   \n",
       "1  50   6  45  4.97  19   300  2250   270             5.648293   \n",
       "2  50   6  60  5.79  20   300  3000   360             6.648399   \n",
       "3  50   6  75  6.28  27   300  3750   450             7.648506   \n",
       "4  50   8  30  5.06  19   400  1500   240             5.283681   \n",
       "\n",
       "   PolyPrediction_Y2  \n",
       "0           4.858393  \n",
       "1           7.419904  \n",
       "2           8.624828  \n",
       "3           6.280734  \n",
       "4           5.059106  "
      ]
     },
     "execution_count": 135,
     "metadata": {},
     "output_type": "execute_result"
    }
   ],
   "source": [
    "#Adding Predicted y2 values for polynomial Regression in the dataframe\n",
    "df['PolyPrediction_Y2']=Polypredict_Y2\n",
    "df.head()"
   ]
  },
  {
   "cell_type": "code",
   "execution_count": 136,
   "metadata": {},
   "outputs": [
    {
     "data": {
      "image/png": "[encoded data removed]",
      "text/plain": [
       "<Figure size 432x288 with 1 Axes>"
      ]
     },
     "metadata": {
      "needs_background": "light"
     },
     "output_type": "display_data"
    }
   ],
   "source": [
    "#Plotting Actual Y2 vs Predicted Y2 values for Polynomial regression\n",
    "sns.scatterplot(data=df,x='Y2',y='PolyPrediction_Y2',color='red')\n",
    "plt.title(\"Polynomial Regression\")\n",
    "plt.show()"
   ]
  },
  {
   "cell_type": "markdown",
   "metadata": {},
   "source": [
    "# L1 Regularization-> Lasso Regression"
   ]
  },
  {
   "cell_type": "code",
   "execution_count": 137,
   "metadata": {},
   "outputs": [],
   "source": [
    "from sklearn.linear_model import LassoCV"
   ]
  },
  {
   "cell_type": "code",
   "execution_count": 138,
   "metadata": {},
   "outputs": [],
   "source": [
    "#We'll Be using same train and test set of Polynomial Regression but we will scale the data using Standard Scaler"
   ]
  },
  {
   "cell_type": "markdown",
   "metadata": {},
   "source": [
    "# Scaling Training and testing set"
   ]
  },
  {
   "cell_type": "code",
   "execution_count": 139,
   "metadata": {},
   "outputs": [],
   "source": [
    "from sklearn.preprocessing import StandardScaler"
   ]
  },
  {
   "cell_type": "code",
   "execution_count": 140,
   "metadata": {},
   "outputs": [],
   "source": [
    "scaler=StandardScaler()"
   ]
  },
  {
   "cell_type": "code",
   "execution_count": 141,
   "metadata": {},
   "outputs": [
    {
     "data": {
      "text/plain": [
       "StandardScaler()"
      ]
     },
     "execution_count": 141,
     "metadata": {},
     "output_type": "execute_result"
    }
   ],
   "source": [
    "scaler.fit(X_train)"
   ]
  },
  {
   "cell_type": "code",
   "execution_count": 142,
   "metadata": {},
   "outputs": [],
   "source": [
    "X_train = scaler.transform(X_train)\n",
    "X_test = scaler.transform(X_test)\n",
    "pf=scaler.transform(poly_feat)"
   ]
  },
  {
   "cell_type": "code",
   "execution_count": 143,
   "metadata": {},
   "outputs": [],
   "source": [
    "lar=LassoCV(eps=0.001,n_alphas=100, max_iter=30000)"
   ]
  },
  {
   "cell_type": "code",
   "execution_count": 144,
   "metadata": {},
   "outputs": [
    {
     "data": {
      "text/plain": [
       "LassoCV(max_iter=30000)"
      ]
     },
     "execution_count": 144,
     "metadata": {},
     "output_type": "execute_result"
    }
   ],
   "source": [
    "lar.fit(X_train,y_train)"
   ]
  },
  {
   "cell_type": "code",
   "execution_count": 145,
   "metadata": {},
   "outputs": [
    {
     "data": {
      "text/plain": [
       "0.001392237888565281"
      ]
     },
     "execution_count": 145,
     "metadata": {},
     "output_type": "execute_result"
    }
   ],
   "source": [
    "lar.alpha_"
   ]
  },
  {
   "cell_type": "code",
   "execution_count": 146,
   "metadata": {},
   "outputs": [],
   "source": [
    "lapredictions=lar.predict(X_test)\n",
    "LassoPredictions_Y2=lar.predict(pf)"
   ]
  },
  {
   "cell_type": "markdown",
   "metadata": {},
   "source": [
    "# Lasso Model Evaluation"
   ]
  },
  {
   "cell_type": "code",
   "execution_count": 147,
   "metadata": {},
   "outputs": [],
   "source": [
    "#Defining Adjusted R2 score\n",
    "def adjusted_r2(predictions):\n",
    "    n = df.shape[0]\n",
    "    p = X.shape[1]\n",
    "    r2 = r2_score(y_test, predictions)\n",
    "    adjusted_r2 = 1 - (((1 - r2) * (n - 1)) / (n - p - 1))\n",
    "    return adjusted_r2"
   ]
  },
  {
   "cell_type": "code",
   "execution_count": 148,
   "metadata": {},
   "outputs": [],
   "source": [
    "Lasso_MAE=mean_absolute_error(y_test,lapredictions)\n",
    "Lasso_MSE=mean_squared_error(y_test,lapredictions)\n",
    "Lasso_RMSE=np.sqrt(Lasso_MSE)\n",
    "Lasso_R2=r2_score(y_test,lapredictions)\n",
    "Lasso_Adjusted_R2=adjusted_r2(lapredictions)"
   ]
  },
  {
   "cell_type": "code",
   "execution_count": 149,
   "metadata": {},
   "outputs": [
    {
     "name": "stdout",
     "output_type": "stream",
     "text": [
      "Mean Absolute Error:  0.3080397949184999\n",
      "Mean Squared Error:  0.15334930400896543\n",
      "Root Mean Squared Error:  0.3915983963309419\n",
      "R2 Score:  0.8925065228603153\n",
      "Adjusted R2 Score: 0.8811914200035064\n"
     ]
    }
   ],
   "source": [
    "print('Mean Absolute Error: ',Lasso_MAE)\n",
    "print('Mean Squared Error: ',Lasso_MSE)\n",
    "print('Root Mean Squared Error: ',Lasso_RMSE)\n",
    "print('R2 Score: ',Lasso_R2)\n",
    "print('Adjusted R2 Score:',Lasso_Adjusted_R2)"
   ]
  },
  {
   "cell_type": "code",
   "execution_count": 150,
   "metadata": {},
   "outputs": [
    {
     "data": {
      "image/png": "[encoded data removed]",
      "text/plain": [
       "<Figure size 432x288 with 1 Axes>"
      ]
     },
     "metadata": {
      "needs_background": "light"
     },
     "output_type": "display_data"
    }
   ],
   "source": [
    "#Residual Graph\n",
    "r=y_test-lapredictions\n",
    "sns.scatterplot(x=y_test,y=r)\n",
    "plt.xlabel('y_test')\n",
    "plt.ylabel('Residual')\n",
    "plt.axhline(y=0,color='red',linestyle='--')\n",
    "plt.show()"
   ]
  },
  {
   "cell_type": "code",
   "execution_count": 151,
   "metadata": {},
   "outputs": [
    {
     "data": {
      "text/html": [
       "<div>\n",
       "<style scoped>\n",
       "    .dataframe tbody tr th:only-of-type {\n",
       "        vertical-align: middle;\n",
       "    }\n",
       "\n",
       "    .dataframe tbody tr th {\n",
       "        vertical-align: top;\n",
       "    }\n",
       "\n",
       "    .dataframe thead th {\n",
       "        text-align: right;\n",
       "    }\n",
       "</style>\n",
       "<table border=\"1\" class=\"dataframe\">\n",
       "  <thead>\n",
       "    <tr style=\"text-align: right;\">\n",
       "      <th></th>\n",
       "      <th>X1</th>\n",
       "      <th>X2</th>\n",
       "      <th>X3</th>\n",
       "      <th>Y2</th>\n",
       "      <th>Z1</th>\n",
       "      <th>X1X2</th>\n",
       "      <th>X1X3</th>\n",
       "      <th>X2X3</th>\n",
       "      <th>LinearPrediction_Y2</th>\n",
       "      <th>PolyPrediction_Y2</th>\n",
       "      <th>LassoPrediction_Y2</th>\n",
       "    </tr>\n",
       "  </thead>\n",
       "  <tbody>\n",
       "    <tr>\n",
       "      <th>0</th>\n",
       "      <td>50</td>\n",
       "      <td>6</td>\n",
       "      <td>30</td>\n",
       "      <td>4.86</td>\n",
       "      <td>18</td>\n",
       "      <td>300</td>\n",
       "      <td>1500</td>\n",
       "      <td>180</td>\n",
       "      <td>4.648187</td>\n",
       "      <td>4.858393</td>\n",
       "      <td>4.832741</td>\n",
       "    </tr>\n",
       "    <tr>\n",
       "      <th>1</th>\n",
       "      <td>50</td>\n",
       "      <td>6</td>\n",
       "      <td>45</td>\n",
       "      <td>4.97</td>\n",
       "      <td>19</td>\n",
       "      <td>300</td>\n",
       "      <td>2250</td>\n",
       "      <td>270</td>\n",
       "      <td>5.648293</td>\n",
       "      <td>7.419904</td>\n",
       "      <td>4.953287</td>\n",
       "    </tr>\n",
       "    <tr>\n",
       "      <th>2</th>\n",
       "      <td>50</td>\n",
       "      <td>6</td>\n",
       "      <td>60</td>\n",
       "      <td>5.79</td>\n",
       "      <td>20</td>\n",
       "      <td>300</td>\n",
       "      <td>3000</td>\n",
       "      <td>360</td>\n",
       "      <td>6.648399</td>\n",
       "      <td>8.624828</td>\n",
       "      <td>5.643377</td>\n",
       "    </tr>\n",
       "    <tr>\n",
       "      <th>3</th>\n",
       "      <td>50</td>\n",
       "      <td>6</td>\n",
       "      <td>75</td>\n",
       "      <td>6.28</td>\n",
       "      <td>27</td>\n",
       "      <td>300</td>\n",
       "      <td>3750</td>\n",
       "      <td>450</td>\n",
       "      <td>7.648506</td>\n",
       "      <td>6.280734</td>\n",
       "      <td>7.105915</td>\n",
       "    </tr>\n",
       "    <tr>\n",
       "      <th>4</th>\n",
       "      <td>50</td>\n",
       "      <td>8</td>\n",
       "      <td>30</td>\n",
       "      <td>5.06</td>\n",
       "      <td>19</td>\n",
       "      <td>400</td>\n",
       "      <td>1500</td>\n",
       "      <td>240</td>\n",
       "      <td>5.283681</td>\n",
       "      <td>5.059106</td>\n",
       "      <td>5.173192</td>\n",
       "    </tr>\n",
       "  </tbody>\n",
       "</table>\n",
       "</div>"
      ],
      "text/plain": [
       "   X1  X2  X3    Y2  Z1  X1X2  X1X3  X2X3  LinearPrediction_Y2  \\\n",
       "0  50   6  30  4.86  18   300  1500   180             4.648187   \n",
       "1  50   6  45  4.97  19   300  2250   270             5.648293   \n",
       "2  50   6  60  5.79  20   300  3000   360             6.648399   \n",
       "3  50   6  75  6.28  27   300  3750   450             7.648506   \n",
       "4  50   8  30  5.06  19   400  1500   240             5.283681   \n",
       "\n",
       "   PolyPrediction_Y2  LassoPrediction_Y2  \n",
       "0           4.858393            4.832741  \n",
       "1           7.419904            4.953287  \n",
       "2           8.624828            5.643377  \n",
       "3           6.280734            7.105915  \n",
       "4           5.059106            5.173192  "
      ]
     },
     "execution_count": 151,
     "metadata": {},
     "output_type": "execute_result"
    }
   ],
   "source": [
    "#Adding Predicted y2 values for lasso Regression in the dataframe\n",
    "df['LassoPrediction_Y2']=LassoPredictions_Y2\n",
    "df.head()"
   ]
  },
  {
   "cell_type": "code",
   "execution_count": 152,
   "metadata": {},
   "outputs": [
    {
     "data": {
      "image/png": "[encoded data removed]",
      "text/plain": [
       "<Figure size 432x288 with 1 Axes>"
      ]
     },
     "metadata": {
      "needs_background": "light"
     },
     "output_type": "display_data"
    }
   ],
   "source": [
    "#Plotting Actual Y2 vs Predicted Y2 values for Lasso regression\n",
    "sns.scatterplot(data=df,x='Y2',y='LassoPrediction_Y2',color='red')\n",
    "plt.title(\"Lasso Regression\")\n",
    "plt.show()"
   ]
  },
  {
   "cell_type": "markdown",
   "metadata": {},
   "source": [
    "# L2 Regularization->Ridge Regression"
   ]
  },
  {
   "cell_type": "code",
   "execution_count": 153,
   "metadata": {},
   "outputs": [],
   "source": [
    "from sklearn.linear_model import RidgeCV"
   ]
  },
  {
   "cell_type": "code",
   "execution_count": 154,
   "metadata": {},
   "outputs": [],
   "source": [
    "#We'll be using the same train and test set as Lasso Regression and scaling for those have already been done"
   ]
  },
  {
   "cell_type": "code",
   "execution_count": 155,
   "metadata": {},
   "outputs": [],
   "source": [
    "rrcv=RidgeCV(alphas=(0.1, 1.0, 10.0),scoring='neg_mean_absolute_error')\n"
   ]
  },
  {
   "cell_type": "code",
   "execution_count": 156,
   "metadata": {},
   "outputs": [
    {
     "data": {
      "text/plain": [
       "RidgeCV(alphas=array([ 0.1,  1. , 10. ]), scoring='neg_mean_absolute_error')"
      ]
     },
     "execution_count": 156,
     "metadata": {},
     "output_type": "execute_result"
    }
   ],
   "source": [
    "rrcv.fit(X_train,y_train)"
   ]
  },
  {
   "cell_type": "code",
   "execution_count": 157,
   "metadata": {},
   "outputs": [
    {
     "data": {
      "text/plain": [
       "0.1"
      ]
     },
     "execution_count": 157,
     "metadata": {},
     "output_type": "execute_result"
    }
   ],
   "source": [
    "rrcv.alpha_"
   ]
  },
  {
   "cell_type": "code",
   "execution_count": 158,
   "metadata": {},
   "outputs": [],
   "source": [
    "ridgepredictions=rrcv.predict(X_test)\n",
    "ridgepredict_Y2=rrcv.predict(pf)"
   ]
  },
  {
   "cell_type": "markdown",
   "metadata": {},
   "source": [
    "# Evaluation for Ridge Regression"
   ]
  },
  {
   "cell_type": "code",
   "execution_count": 159,
   "metadata": {},
   "outputs": [],
   "source": [
    "#Defining the Adjusted r2 function\n",
    "def adjusted_r2(predictions):\n",
    "    n = df.shape[0]\n",
    "    p = X.shape[1]\n",
    "    r2 = r2_score(y_test, predictions)\n",
    "    adjusted_r2 = 1 - (((1 - r2) * (n - 1)) / (n - p - 1))\n",
    "    return adjusted_r2"
   ]
  },
  {
   "cell_type": "code",
   "execution_count": 160,
   "metadata": {},
   "outputs": [],
   "source": [
    "Ridge_MAE=mean_absolute_error(y_test,ridgepredictions)\n",
    "Ridge_MSE=mean_squared_error(y_test,ridgepredictions)\n",
    "Ridge_RMSE=np.sqrt(Ridge_MSE)\n",
    "Ridge_R2=r2_score(y_test,ridgepredictions)\n",
    "Ridge_Adjusted_R2=adjusted_r2(ridgepredictions)"
   ]
  },
  {
   "cell_type": "code",
   "execution_count": 161,
   "metadata": {},
   "outputs": [
    {
     "name": "stdout",
     "output_type": "stream",
     "text": [
      "Mean Absolute Error:  0.3489410739475509\n",
      "Mean Squared Error:  0.18233967943728832\n",
      "Root Mean Squared Error:  0.42701250501277865\n",
      "R2 Score:  0.8721850986548744\n",
      "Adjusted R2 Score: 0.8587308985132822\n"
     ]
    }
   ],
   "source": [
    "print('Mean Absolute Error: ',Ridge_MAE)\n",
    "print('Mean Squared Error: ',Ridge_MSE)\n",
    "print('Root Mean Squared Error: ',Ridge_RMSE)\n",
    "print('R2 Score: ',Ridge_R2)\n",
    "print('Adjusted R2 Score:',Ridge_Adjusted_R2)"
   ]
  },
  {
   "cell_type": "code",
   "execution_count": 162,
   "metadata": {},
   "outputs": [
    {
     "data": {
      "image/png": "[encoded data removed]",
      "text/plain": [
       "<Figure size 432x288 with 1 Axes>"
      ]
     },
     "metadata": {
      "needs_background": "light"
     },
     "output_type": "display_data"
    }
   ],
   "source": [
    "#Residual Graph\n",
    "r=y_test-ridgepredictions\n",
    "sns.scatterplot(x=y_test,y=r)\n",
    "plt.xlabel('y_test')\n",
    "plt.ylabel('Residual')\n",
    "plt.axhline(y=0,color='red',linestyle='--')\n",
    "plt.show()"
   ]
  },
  {
   "cell_type": "code",
   "execution_count": 163,
   "metadata": {},
   "outputs": [
    {
     "data": {
      "text/html": [
       "<div>\n",
       "<style scoped>\n",
       "    .dataframe tbody tr th:only-of-type {\n",
       "        vertical-align: middle;\n",
       "    }\n",
       "\n",
       "    .dataframe tbody tr th {\n",
       "        vertical-align: top;\n",
       "    }\n",
       "\n",
       "    .dataframe thead th {\n",
       "        text-align: right;\n",
       "    }\n",
       "</style>\n",
       "<table border=\"1\" class=\"dataframe\">\n",
       "  <thead>\n",
       "    <tr style=\"text-align: right;\">\n",
       "      <th></th>\n",
       "      <th>X1</th>\n",
       "      <th>X2</th>\n",
       "      <th>X3</th>\n",
       "      <th>Y2</th>\n",
       "      <th>Z1</th>\n",
       "      <th>X1X2</th>\n",
       "      <th>X1X3</th>\n",
       "      <th>X2X3</th>\n",
       "      <th>LinearPrediction_Y2</th>\n",
       "      <th>PolyPrediction_Y2</th>\n",
       "      <th>LassoPrediction_Y2</th>\n",
       "      <th>RidgePrediction_Y2</th>\n",
       "    </tr>\n",
       "  </thead>\n",
       "  <tbody>\n",
       "    <tr>\n",
       "      <th>0</th>\n",
       "      <td>50</td>\n",
       "      <td>6</td>\n",
       "      <td>30</td>\n",
       "      <td>4.86</td>\n",
       "      <td>18</td>\n",
       "      <td>300</td>\n",
       "      <td>1500</td>\n",
       "      <td>180</td>\n",
       "      <td>4.648187</td>\n",
       "      <td>4.858393</td>\n",
       "      <td>4.832741</td>\n",
       "      <td>4.941656</td>\n",
       "    </tr>\n",
       "    <tr>\n",
       "      <th>1</th>\n",
       "      <td>50</td>\n",
       "      <td>6</td>\n",
       "      <td>45</td>\n",
       "      <td>4.97</td>\n",
       "      <td>19</td>\n",
       "      <td>300</td>\n",
       "      <td>2250</td>\n",
       "      <td>270</td>\n",
       "      <td>5.648293</td>\n",
       "      <td>7.419904</td>\n",
       "      <td>4.953287</td>\n",
       "      <td>5.003044</td>\n",
       "    </tr>\n",
       "    <tr>\n",
       "      <th>2</th>\n",
       "      <td>50</td>\n",
       "      <td>6</td>\n",
       "      <td>60</td>\n",
       "      <td>5.79</td>\n",
       "      <td>20</td>\n",
       "      <td>300</td>\n",
       "      <td>3000</td>\n",
       "      <td>360</td>\n",
       "      <td>6.648399</td>\n",
       "      <td>8.624828</td>\n",
       "      <td>5.643377</td>\n",
       "      <td>5.648999</td>\n",
       "    </tr>\n",
       "    <tr>\n",
       "      <th>3</th>\n",
       "      <td>50</td>\n",
       "      <td>6</td>\n",
       "      <td>75</td>\n",
       "      <td>6.28</td>\n",
       "      <td>27</td>\n",
       "      <td>300</td>\n",
       "      <td>3750</td>\n",
       "      <td>450</td>\n",
       "      <td>7.648506</td>\n",
       "      <td>6.280734</td>\n",
       "      <td>7.105915</td>\n",
       "      <td>7.109481</td>\n",
       "    </tr>\n",
       "    <tr>\n",
       "      <th>4</th>\n",
       "      <td>50</td>\n",
       "      <td>8</td>\n",
       "      <td>30</td>\n",
       "      <td>5.06</td>\n",
       "      <td>19</td>\n",
       "      <td>400</td>\n",
       "      <td>1500</td>\n",
       "      <td>240</td>\n",
       "      <td>5.283681</td>\n",
       "      <td>5.059106</td>\n",
       "      <td>5.173192</td>\n",
       "      <td>5.234152</td>\n",
       "    </tr>\n",
       "  </tbody>\n",
       "</table>\n",
       "</div>"
      ],
      "text/plain": [
       "   X1  X2  X3    Y2  Z1  X1X2  X1X3  X2X3  LinearPrediction_Y2  \\\n",
       "0  50   6  30  4.86  18   300  1500   180             4.648187   \n",
       "1  50   6  45  4.97  19   300  2250   270             5.648293   \n",
       "2  50   6  60  5.79  20   300  3000   360             6.648399   \n",
       "3  50   6  75  6.28  27   300  3750   450             7.648506   \n",
       "4  50   8  30  5.06  19   400  1500   240             5.283681   \n",
       "\n",
       "   PolyPrediction_Y2  LassoPrediction_Y2  RidgePrediction_Y2  \n",
       "0           4.858393            4.832741            4.941656  \n",
       "1           7.419904            4.953287            5.003044  \n",
       "2           8.624828            5.643377            5.648999  \n",
       "3           6.280734            7.105915            7.109481  \n",
       "4           5.059106            5.173192            5.234152  "
      ]
     },
     "execution_count": 163,
     "metadata": {},
     "output_type": "execute_result"
    }
   ],
   "source": [
    "#Adding Predicted y2 values for Ridge Regression in the dataframe\n",
    "df['RidgePrediction_Y2']=ridgepredict_Y2\n",
    "df.head()"
   ]
  },
  {
   "cell_type": "code",
   "execution_count": 164,
   "metadata": {},
   "outputs": [
    {
     "data": {
      "image/png": "[encoded data removed]",
      "text/plain": [
       "<Figure size 432x288 with 1 Axes>"
      ]
     },
     "metadata": {
      "needs_background": "light"
     },
     "output_type": "display_data"
    }
   ],
   "source": [
    "#Plotting Actual Y2 vs Predicted Y2 values for Ridge regression\n",
    "sns.scatterplot(data=df,x='Y2',y='RidgePrediction_Y2',color='red')\n",
    "plt.title(\"Ridge Regression\")\n",
    "plt.show()"
   ]
  },
  {
   "cell_type": "markdown",
   "metadata": {},
   "source": [
    "# Elastic Net Regression"
   ]
  },
  {
   "cell_type": "code",
   "execution_count": 165,
   "metadata": {},
   "outputs": [],
   "source": [
    "from sklearn.linear_model import ElasticNetCV"
   ]
  },
  {
   "cell_type": "code",
   "execution_count": 166,
   "metadata": {},
   "outputs": [],
   "source": [
    "#We'll be using the same train and test set as Lasso Regression and Ridge Regression and scaling for those have already been done"
   ]
  },
  {
   "cell_type": "code",
   "execution_count": 167,
   "metadata": {},
   "outputs": [],
   "source": [
    "er=ElasticNetCV(l1_ratio=[.1, .5, .7,.9, .95, .99, 1],tol=0.01,max_iter=2000)"
   ]
  },
  {
   "cell_type": "code",
   "execution_count": 168,
   "metadata": {},
   "outputs": [
    {
     "data": {
      "text/plain": [
       "ElasticNetCV(l1_ratio=[0.1, 0.5, 0.7, 0.9, 0.95, 0.99, 1], max_iter=2000,\n",
       "             tol=0.01)"
      ]
     },
     "execution_count": 168,
     "metadata": {},
     "output_type": "execute_result"
    }
   ],
   "source": [
    "er.fit(X_train,y_train)"
   ]
  },
  {
   "cell_type": "code",
   "execution_count": 169,
   "metadata": {},
   "outputs": [
    {
     "data": {
      "text/plain": [
       "1.0"
      ]
     },
     "execution_count": 169,
     "metadata": {},
     "output_type": "execute_result"
    }
   ],
   "source": [
    "er.l1_ratio_"
   ]
  },
  {
   "cell_type": "code",
   "execution_count": 170,
   "metadata": {},
   "outputs": [],
   "source": [
    "elasticpredictions=er.predict(X_test)\n",
    "elasticpredict_Y2=er.predict(pf)"
   ]
  },
  {
   "cell_type": "markdown",
   "metadata": {},
   "source": [
    "# Evaluation of Elastic Regression"
   ]
  },
  {
   "cell_type": "code",
   "execution_count": 171,
   "metadata": {},
   "outputs": [],
   "source": [
    "#Defining the Adjusted r2 function\n",
    "def adjusted_r2(predictions):\n",
    "    n = df.shape[0]\n",
    "    p = X.shape[1]\n",
    "    r2 = r2_score(y_test, predictions)\n",
    "    adjusted_r2 = 1 - (((1 - r2) * (n - 1)) / (n - p - 1))\n",
    "    return adjusted_r2"
   ]
  },
  {
   "cell_type": "code",
   "execution_count": 172,
   "metadata": {},
   "outputs": [],
   "source": [
    "Elastic_MAE=mean_absolute_error(y_test,elasticpredictions)\n",
    "Elastic_MSE=mean_squared_error(y_test,elasticpredictions)\n",
    "Elastic_RMSE=np.sqrt(Elastic_MSE)\n",
    "Elastic_R2=r2_score(y_test,elasticpredictions)\n",
    "Elastic_Adjusted_R2=adjusted_r2(elasticpredictions)"
   ]
  },
  {
   "cell_type": "code",
   "execution_count": 173,
   "metadata": {},
   "outputs": [
    {
     "name": "stdout",
     "output_type": "stream",
     "text": [
      "Mean Absolute Error:  0.32748169613382266\n",
      "Mean Squared Error:  0.15795376013927284\n",
      "Root Mean Squared Error:  0.39743396953364823\n",
      "R2 Score:  0.889278930775809\n",
      "Adjusted R2 Score: 0.8776240813837889\n"
     ]
    }
   ],
   "source": [
    "print('Mean Absolute Error: ',Elastic_MAE)\n",
    "print('Mean Squared Error: ',Elastic_MSE)\n",
    "print('Root Mean Squared Error: ',Elastic_RMSE)\n",
    "print('R2 Score: ',Elastic_R2)\n",
    "print('Adjusted R2 Score:',Elastic_Adjusted_R2)"
   ]
  },
  {
   "cell_type": "code",
   "execution_count": 174,
   "metadata": {},
   "outputs": [
    {
     "data": {
      "image/png": "[encoded data removed]",
      "text/plain": [
       "<Figure size 432x288 with 1 Axes>"
      ]
     },
     "metadata": {
      "needs_background": "light"
     },
     "output_type": "display_data"
    }
   ],
   "source": [
    "#Residual Graph\n",
    "r=y_test-elasticpredictions\n",
    "sns.scatterplot(x=y_test,y=r)\n",
    "plt.xlabel('y_test')\n",
    "plt.ylabel('Residual')\n",
    "plt.axhline(y=0,color='red',linestyle='--')\n",
    "plt.show()"
   ]
  },
  {
   "cell_type": "code",
   "execution_count": 175,
   "metadata": {},
   "outputs": [
    {
     "data": {
      "text/html": [
       "<div>\n",
       "<style scoped>\n",
       "    .dataframe tbody tr th:only-of-type {\n",
       "        vertical-align: middle;\n",
       "    }\n",
       "\n",
       "    .dataframe tbody tr th {\n",
       "        vertical-align: top;\n",
       "    }\n",
       "\n",
       "    .dataframe thead th {\n",
       "        text-align: right;\n",
       "    }\n",
       "</style>\n",
       "<table border=\"1\" class=\"dataframe\">\n",
       "  <thead>\n",
       "    <tr style=\"text-align: right;\">\n",
       "      <th></th>\n",
       "      <th>X1</th>\n",
       "      <th>X2</th>\n",
       "      <th>X3</th>\n",
       "      <th>Y2</th>\n",
       "      <th>Z1</th>\n",
       "      <th>X1X2</th>\n",
       "      <th>X1X3</th>\n",
       "      <th>X2X3</th>\n",
       "      <th>LinearPrediction_Y2</th>\n",
       "      <th>PolyPrediction_Y2</th>\n",
       "      <th>LassoPrediction_Y2</th>\n",
       "      <th>RidgePrediction_Y2</th>\n",
       "      <th>ElasticNetPrediction_Y2</th>\n",
       "    </tr>\n",
       "  </thead>\n",
       "  <tbody>\n",
       "    <tr>\n",
       "      <th>0</th>\n",
       "      <td>50</td>\n",
       "      <td>6</td>\n",
       "      <td>30</td>\n",
       "      <td>4.86</td>\n",
       "      <td>18</td>\n",
       "      <td>300</td>\n",
       "      <td>1500</td>\n",
       "      <td>180</td>\n",
       "      <td>4.648187</td>\n",
       "      <td>4.858393</td>\n",
       "      <td>4.832741</td>\n",
       "      <td>4.941656</td>\n",
       "      <td>4.886834</td>\n",
       "    </tr>\n",
       "    <tr>\n",
       "      <th>1</th>\n",
       "      <td>50</td>\n",
       "      <td>6</td>\n",
       "      <td>45</td>\n",
       "      <td>4.97</td>\n",
       "      <td>19</td>\n",
       "      <td>300</td>\n",
       "      <td>2250</td>\n",
       "      <td>270</td>\n",
       "      <td>5.648293</td>\n",
       "      <td>7.419904</td>\n",
       "      <td>4.953287</td>\n",
       "      <td>5.003044</td>\n",
       "      <td>4.918621</td>\n",
       "    </tr>\n",
       "    <tr>\n",
       "      <th>2</th>\n",
       "      <td>50</td>\n",
       "      <td>6</td>\n",
       "      <td>60</td>\n",
       "      <td>5.79</td>\n",
       "      <td>20</td>\n",
       "      <td>300</td>\n",
       "      <td>3000</td>\n",
       "      <td>360</td>\n",
       "      <td>6.648399</td>\n",
       "      <td>8.624828</td>\n",
       "      <td>5.643377</td>\n",
       "      <td>5.648999</td>\n",
       "      <td>5.639503</td>\n",
       "    </tr>\n",
       "    <tr>\n",
       "      <th>3</th>\n",
       "      <td>50</td>\n",
       "      <td>6</td>\n",
       "      <td>75</td>\n",
       "      <td>6.28</td>\n",
       "      <td>27</td>\n",
       "      <td>300</td>\n",
       "      <td>3750</td>\n",
       "      <td>450</td>\n",
       "      <td>7.648506</td>\n",
       "      <td>6.280734</td>\n",
       "      <td>7.105915</td>\n",
       "      <td>7.109481</td>\n",
       "      <td>7.256762</td>\n",
       "    </tr>\n",
       "    <tr>\n",
       "      <th>4</th>\n",
       "      <td>50</td>\n",
       "      <td>8</td>\n",
       "      <td>30</td>\n",
       "      <td>5.06</td>\n",
       "      <td>19</td>\n",
       "      <td>400</td>\n",
       "      <td>1500</td>\n",
       "      <td>240</td>\n",
       "      <td>5.283681</td>\n",
       "      <td>5.059106</td>\n",
       "      <td>5.173192</td>\n",
       "      <td>5.234152</td>\n",
       "      <td>5.219528</td>\n",
       "    </tr>\n",
       "  </tbody>\n",
       "</table>\n",
       "</div>"
      ],
      "text/plain": [
       "   X1  X2  X3    Y2  Z1  X1X2  X1X3  X2X3  LinearPrediction_Y2  \\\n",
       "0  50   6  30  4.86  18   300  1500   180             4.648187   \n",
       "1  50   6  45  4.97  19   300  2250   270             5.648293   \n",
       "2  50   6  60  5.79  20   300  3000   360             6.648399   \n",
       "3  50   6  75  6.28  27   300  3750   450             7.648506   \n",
       "4  50   8  30  5.06  19   400  1500   240             5.283681   \n",
       "\n",
       "   PolyPrediction_Y2  LassoPrediction_Y2  RidgePrediction_Y2  \\\n",
       "0           4.858393            4.832741            4.941656   \n",
       "1           7.419904            4.953287            5.003044   \n",
       "2           8.624828            5.643377            5.648999   \n",
       "3           6.280734            7.105915            7.109481   \n",
       "4           5.059106            5.173192            5.234152   \n",
       "\n",
       "   ElasticNetPrediction_Y2  \n",
       "0                 4.886834  \n",
       "1                 4.918621  \n",
       "2                 5.639503  \n",
       "3                 7.256762  \n",
       "4                 5.219528  "
      ]
     },
     "execution_count": 175,
     "metadata": {},
     "output_type": "execute_result"
    }
   ],
   "source": [
    "#Adding Predicted y2 values for Elastic Net Regression in the dataframe\n",
    "df['ElasticNetPrediction_Y2']=elasticpredict_Y2\n",
    "df.head()"
   ]
  },
  {
   "cell_type": "code",
   "execution_count": 176,
   "metadata": {},
   "outputs": [
    {
     "data": {
      "image/png": "[encoded data removed]",
      "text/plain": [
       "<Figure size 432x288 with 1 Axes>"
      ]
     },
     "metadata": {
      "needs_background": "light"
     },
     "output_type": "display_data"
    }
   ],
   "source": [
    "#Plotting Actual Y2 vs Predicted Y2 values for Elastic regression\n",
    "sns.scatterplot(data=df,x='Y2',y='ElasticNetPrediction_Y2',color='red')\n",
    "plt.title(\"Elastic Net Regression\")\n",
    "plt.show()"
   ]
  },
  {
   "cell_type": "markdown",
   "metadata": {},
   "source": [
    "# Inferences"
   ]
  },
  {
   "cell_type": "code",
   "execution_count": 177,
   "metadata": {},
   "outputs": [],
   "source": [
    "inference = {\n",
    "\t'Regression': ['Linear', 'Polynomial' , 'Lasso', 'Ridge', 'ElasticNet'],\n",
    "\t'MAE': \n",
    "\t\t[\n",
    "\t\t\tLinear_MAE, \n",
    "\t\t\tPolynomial_MAE,\n",
    "\t\t\tLasso_MAE, \n",
    "\t\t\tRidge_MAE,\n",
    "            Elastic_MAE\n",
    "            \n",
    "\t\t],\n",
    "\t'MSE':\n",
    "\t\t[\n",
    "\t\t\tLinear_MSE, \n",
    "\t\t\tPolynomial_MSE,\n",
    "\t\t\tLasso_MSE, \n",
    "\t\t\tRidge_MSE,\n",
    "            Elastic_MSE\n",
    "            \n",
    "\t\t],\n",
    "\t'RMSE':\n",
    "\t\t[\n",
    "\t\t\tLinear_RMSE, \n",
    "\t\t\tPolynomial_RMSE,\n",
    "\t\t\tLasso_RMSE, \n",
    "\t\t\tRidge_RMSE,\n",
    "            Elastic_RMSE\n",
    "            \n",
    "\t\t],\n",
    "\t'R2':\n",
    "\t\t[\n",
    "\t\t\tLinear_R2, \n",
    "\t\t\tPolynomial_R2,\n",
    "\t\t\tLasso_R2, \n",
    "\t\t\tRidge_R2,\n",
    "            Elastic_R2\n",
    "            \n",
    "\t\t],\n",
    "\t'Adjusted R2':\n",
    "\t\t[\n",
    "\t\t\tLinear_Adjusted_R2, \n",
    "\t\t\tPolynomial_Adjusted_R2,\n",
    "\t\t\tLasso_Adjusted_R2, \n",
    "\t\t\tRidge_Adjusted_R2,\n",
    "            Elastic_Adjusted_R2\n",
    "            \n",
    "\t\t]\n",
    "}"
   ]
  },
  {
   "cell_type": "code",
   "execution_count": 178,
   "metadata": {},
   "outputs": [
    {
     "name": "stdout",
     "output_type": "stream",
     "text": [
      "   Regression       MAE        MSE      RMSE         R2  Adjusted R2\n",
      "0      Linear  0.744147   0.828363  0.910144   0.419341     0.358219\n",
      "1  Polynomial  3.325096  22.364633  4.729126 -14.676968   -16.327175\n",
      "2       Lasso  0.308040   0.153349  0.391598   0.892507     0.881191\n",
      "3       Ridge  0.348941   0.182340  0.427013   0.872185     0.858731\n",
      "4  ElasticNet  0.327482   0.157954  0.397434   0.889279     0.877624\n"
     ]
    }
   ],
   "source": [
    "inference_frame_2 = pd.DataFrame(inference)\n",
    "print(inference_frame_2)"
   ]
  },
  {
   "cell_type": "code",
   "execution_count": 179,
   "metadata": {},
   "outputs": [],
   "source": [
    "df.to_csv('Challenging_Task_ML.csv')"
   ]
  },
  {
   "cell_type": "markdown",
   "metadata": {},
   "source": [
    "## From the above table, we can infer that Lasso is the best model for the given dataset as it has low MAE,MSE and RMSE values and high R2 and Adjusted R2 scores compared to the other models."
   ]
  }
 ],
 "metadata": {
  "kernelspec": {
   "display_name": "Python 3",
   "language": "python",
   "name": "python3"
  },
  "language_info": {
   "codemirror_mode": {
    "name": "ipython",
    "version": 3
   },
   "file_extension": ".py",
   "mimetype": "text/x-python",
   "name": "python",
   "nbconvert_exporter": "python",
   "pygments_lexer": "ipython3",
   "version": "3.8.5"
  }
 },
 "nbformat": 4,
 "nbformat_minor": 4
}
